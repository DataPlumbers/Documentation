{
 "cells": [
  {
   "cell_type": "markdown",
   "metadata": {},
   "source": [
    "# Setting up Mongo backend\n",
    "### Note: I'm on Ubuntu, so MacOS may have slightly different setup when installing/initializing components. Refer to OS-specific documentation if this is the case. \n",
    "1. Install MongoDB\n",
    "  * Follow the guidelines for installing on your OS here: https://docs.mongodb.com/manual/installation/\n",
    "  * To run MongoDB on your machine, use \"mongod\"\n",
    "  * We may want to run Mongo with the \"--smallfiles\" flag for now, which limits files to 512MB (more than enough for current use case)\n",
    "  * Verify installation using \"mongo --version\"\n",
    "2. Check MongoImport\n",
    "  * Verify installation \"mongoimport --version\" \n",
    "5. Setup is complete!"
   ]
  },
  {
   "cell_type": "markdown",
   "metadata": {},
   "source": [
    "In the future we may handle this differently, but for now start the MongoDB server on your local machine using:"
   ]
  },
  {
   "cell_type": "code",
   "execution_count": null,
   "metadata": {},
   "outputs": [],
   "source": [
    "mongod --smallfiles"
   ]
  },
  {
   "cell_type": "markdown",
   "metadata": {},
   "source": [
    "This should get you a large text block of output, starting with something like:"
   ]
  },
  {
   "cell_type": "code",
   "execution_count": null,
   "metadata": {},
   "outputs": [],
   "source": [
    "# 2018-12-03T22:43:21.647-0800 [initandlisten] MongoDB starting : pid=6891 port=27017 dbpath=/data/db 64-bit host=galliumos"
   ]
  },
  {
   "cell_type": "markdown",
   "metadata": {},
   "source": [
    "Make not of \"port=#####\", thats the port your MongoDB server is listening on."
   ]
  },
  {
   "cell_type": "markdown",
   "metadata": {},
   "source": [
    "Now that we have a MongoDB server, we can create a MongoDB database and begin writing to it. First, launch the MongoDB shell:"
   ]
  },
  {
   "cell_type": "code",
   "execution_count": 4,
   "metadata": {},
   "outputs": [],
   "source": [
    "mongo"
   ]
  },
  {
   "cell_type": "markdown",
   "metadata": {},
   "source": [
    "You should be presented with something like:"
   ]
  },
  {
   "cell_type": "code",
   "execution_count": null,
   "metadata": {},
   "outputs": [],
   "source": [
    "MongoDB shell version: 2.6.10\n",
    "connecting to: test\n",
    "> "
   ]
  },
  {
   "cell_type": "markdown",
   "metadata": {},
   "source": [
    "We now have a connection to the local MongoDB server within our shell and can start doing stuff. Now to create and \"open\" a specific database within our server, we use: "
   ]
  },
  {
   "cell_type": "code",
   "execution_count": null,
   "metadata": {},
   "outputs": [],
   "source": [
    "use mydb"
   ]
  },
  {
   "cell_type": "markdown",
   "metadata": {},
   "source": [
    "The name 'mydb' is arbitrary and chosen for learning purposes only. To verify that you've successfully created your Mongo database, use:"
   ]
  },
  {
   "cell_type": "code",
   "execution_count": null,
   "metadata": {},
   "outputs": [],
   "source": [
    "show dbs"
   ]
  },
  {
   "cell_type": "markdown",
   "metadata": {},
   "source": [
    "Close your Mongo shell using ctrl+C (NOTE: only close the shell, not the running server). Now to \"upload\" our selected CSV dataset, we'll use the \"mongoimport\" tool included with your install of MongoDB. Navigate to the directory containing our test CSV dataset \"product.csv\". Once in the directory, run:"
   ]
  },
  {
   "cell_type": "code",
   "execution_count": null,
   "metadata": {},
   "outputs": [],
   "source": [
    "mongoimport -d mydb -c things --type csv --file product.csv --headerline"
   ]
  },
  {
   "cell_type": "markdown",
   "metadata": {},
   "source": [
    "You should see a string of output similar to:"
   ]
  },
  {
   "cell_type": "code",
   "execution_count": null,
   "metadata": {},
   "outputs": [],
   "source": [
    "# connected to: 127.0.0.1\n",
    "# 2018-12-03T23:31:43.960-0800 check 9 102\n",
    "# 2018-12-03T23:31:43.965-0800 imported 101 objects"
   ]
  },
  {
   "cell_type": "markdown",
   "metadata": {},
   "source": [
    "If so, you've successfully imported the data from your CSV into the created database on your Mongo server. This was made simple using tools pre-packaged with Mongo instead of a customized parser or other solution. We can interact with this data in the Mongo shell, so launch it again (make sure to \"use mydb\" if its no longer your active database):"
   ]
  },
  {
   "cell_type": "code",
   "execution_count": null,
   "metadata": {},
   "outputs": [],
   "source": [
    "db.things.find()"
   ]
  },
  {
   "cell_type": "markdown",
   "metadata": {},
   "source": [
    "Running the above command should output a large string of text describing the different objects import from the CSV files. If nothing is present, its possible you are not in the same database you imported the data into. "
   ]
  },
  {
   "cell_type": "code",
   "execution_count": null,
   "metadata": {},
   "outputs": [],
   "source": [
    "> db.things.find()\n",
    "{ \"_id\" : ObjectId(\"5c062d5f72c97f78c335a92c\"), \"ID\" : 0, \"description\" : \"Gorgeous Steel Knife\", \"price\" : 75.6 }\n",
    "{ \"_id\" : ObjectId(\"5c062d5f72c97f78c335a92d\"), \"ID\" : 1, \"description\" : \"Heavy Duty Iron Shoes\", \"price\" : 94.48 }\n",
    "{ \"_id\" : ObjectId(\"5c062d5f72c97f78c335a92e\"), \"ID\" : 2, \"description\" : \"Incredible Concrete Table\", \"price\" : 3.45 }\n",
    "{ \"_id\" : ObjectId(\"5c062d5f72c97f78c335a92f\"), \"ID\" : 3, \"description\" : \"Rustic Steel Bench\", \"price\" : 87.75 }\n",
    "{ \"_id\" : ObjectId(\"5c062d5f72c97f78c335a930\"), \"ID\" : 4, \"description\" : \"Rustic Rubber Table\", \"price\" : 92.14 }\n",
    "{ \"_id\" : ObjectId(\"5c062d5f72c97f78c335a931\"), \"ID\" : 5, \"description\" : \"Fantastic Leather Shoes\", \"price\" : 28.26 }\n",
    "{ \"_id\" : ObjectId(\"5c062d5f72c97f78c335a932\"), \"ID\" : 6, \"description\" : \"Gorgeous Bronze Pants\", \"price\" : 41.47 }\n",
    "{ \"_id\" : ObjectId(\"5c062d5f72c97f78c335a933\"), \"ID\" : 7, \"description\" : \"Practical Rubber Wallet\", \"price\" : 89.53 }\n",
    "{ \"_id\" : ObjectId(\"5c062d5f72c97f78c335a934\"), \"ID\" : 8, \"description\" : \"Sleek Cotton Computer\", \"price\" : 4.82 }\n",
    "{ \"_id\" : ObjectId(\"5c062d5f72c97f78c335a935\"), \"ID\" : 9, \"description\" : \"Aerodynamic Leather Computer\", \"price\" : 66.99 }\n",
    "{ \"_id\" : ObjectId(\"5c062d5f72c97f78c335a936\"), \"ID\" : 10, \"description\" : \"Sleek Copper Keyboard\", \"price\" : 43.03 }\n",
    "{ \"_id\" : ObjectId(\"5c062d5f72c97f78c335a937\"), \"ID\" : 11, \"description\" : \"Gorgeous Iron Plate\", \"price\" : 45.96 }\n",
    "{ \"_id\" : ObjectId(\"5c062d5f72c97f78c335a938\"), \"ID\" : 12, \"description\" : \"Sleek Wool Watch\", \"price\" : 0.26 }\n",
    "{ \"_id\" : ObjectId(\"5c062d5f72c97f78c335a939\"), \"ID\" : 13, \"description\" : \"Incredible Marble Car\", \"price\" : 97.08 }\n",
    "{ \"_id\" : ObjectId(\"5c062d5f72c97f78c335a93a\"), \"ID\" : 14, \"description\" : \"Rustic Plastic Gloves\", \"price\" : 96.79 }\n",
    "{ \"_id\" : ObjectId(\"5c062d5f72c97f78c335a93b\"), \"ID\" : 15, \"description\" : \"Synergistic Iron Plate\", \"price\" : 4.28 }\n",
    "{ \"_id\" : ObjectId(\"5c062d5f72c97f78c335a93c\"), \"ID\" : 16, \"description\" : \"Lightweight Paper Clock\", \"price\" : 84.88 }\n",
    "{ \"_id\" : ObjectId(\"5c062d5f72c97f78c335a93d\"), \"ID\" : 17, \"description\" : \"Ergonomic Copper Shoes\", \"price\" : 10.67 }\n",
    "{ \"_id\" : ObjectId(\"5c062d5f72c97f78c335a93e\"), \"ID\" : 18, \"description\" : \"Practical Bronze Lamp\", \"price\" : 93.04 }\n",
    "{ \"_id\" : ObjectId(\"5c062d5f72c97f78c335a93f\"), \"ID\" : 19, \"description\" : \"Fantastic Silk Bench\", \"price\" : 92.44 }\n",
    "Type \"it\" for more"
   ]
  },
  {
   "cell_type": "markdown",
   "metadata": {},
   "source": [
    "Congrats! We could use this as a script to parse a user's input files into a more usable Mongo database, allowing us to more easily interact with the data from Python for ML or from JS for UI. "
   ]
  }
 ],
 "metadata": {
  "kernelspec": {
   "display_name": "Python 3",
   "language": "python",
   "name": "python3"
  },
  "language_info": {
   "codemirror_mode": {
    "name": "ipython",
    "version": 3
   },
   "file_extension": ".py",
   "mimetype": "text/x-python",
   "name": "python",
   "nbconvert_exporter": "python",
   "pygments_lexer": "ipython3",
   "version": "3.5.2"
  }
 },
 "nbformat": 4,
 "nbformat_minor": 2
}
